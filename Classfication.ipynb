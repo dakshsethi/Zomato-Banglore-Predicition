{
 "cells": [
  {
   "cell_type": "markdown",
   "metadata": {},
   "source": [
    "# Classification"
   ]
  },
  {
   "cell_type": "markdown",
   "metadata": {},
   "source": [
    "## 1. Importing required libraries"
   ]
  },
  {
   "cell_type": "code",
   "execution_count": 22,
   "metadata": {},
   "outputs": [],
   "source": [
    "#Importing Libraries\n",
    "import numpy as np\n",
    "import pandas as pd \n",
    "import matplotlib.pyplot as plt \n",
    "import seaborn as sns \n",
    "#from sklearn.linear_model import LogisticRegression \n",
    "from sklearn.model_selection import train_test_split \n",
    "from sklearn.metrics import classification_report \n",
    "from sklearn.metrics import confusion_matrix\n",
    "from sklearn.metrics import r2_score"
   ]
  },
  {
   "cell_type": "code",
   "execution_count": 23,
   "metadata": {},
   "outputs": [],
   "source": [
    "#Read the CSV File containing dataset using Pandas Library\n",
    "df = pd.read_csv(\"Zomato_new.csv\")"
   ]
  },
  {
   "cell_type": "code",
   "execution_count": 24,
   "metadata": {},
   "outputs": [
    {
     "data": {
      "text/plain": [
       "9792     1\n",
       "18964    2\n",
       "32151    2\n",
       "7739     2\n",
       "39367    3\n",
       "Name: rate, dtype: int64"
      ]
     },
     "execution_count": 24,
     "metadata": {},
     "output_type": "execute_result"
    }
   ],
   "source": [
    "#Defining the independent variables and dependent variables\n",
    "x = df.iloc[:,[0,1,3,4,5,6,7,8]]\n",
    "y = df['rate']\n",
    "#Getting Test and Training Set\n",
    "x_train,x_test,y_train,y_test=train_test_split(x,y,test_size=.2,random_state=353)\n",
    "x_train.head()\n",
    "y_train.head()"
   ]
  },
  {
   "cell_type": "code",
   "execution_count": 25,
   "metadata": {},
   "outputs": [],
   "source": [
    "from sklearn.preprocessing import StandardScaler\n",
    "sc = StandardScaler()\n",
    "\n",
    "x_train = sc.fit_transform(x_train)\n",
    "x_test = sc.transform(x_test)"
   ]
  },
  {
   "cell_type": "markdown",
   "metadata": {},
   "source": [
    "## 1. Logistic Regression Classifier"
   ]
  },
  {
   "cell_type": "code",
   "execution_count": 26,
   "metadata": {},
   "outputs": [
    {
     "name": "stdout",
     "output_type": "stream",
     "text": [
      "Accracy of Logistic Regression Classifier : 0.592992240543162\n"
     ]
    },
    {
     "data": {
      "text/html": [
       "<div>\n",
       "<style scoped>\n",
       "    .dataframe tbody tr th:only-of-type {\n",
       "        vertical-align: middle;\n",
       "    }\n",
       "\n",
       "    .dataframe tbody tr th {\n",
       "        vertical-align: top;\n",
       "    }\n",
       "\n",
       "    .dataframe thead th {\n",
       "        text-align: right;\n",
       "    }\n",
       "</style>\n",
       "<table border=\"1\" class=\"dataframe\">\n",
       "  <thead>\n",
       "    <tr style=\"text-align: right;\">\n",
       "      <th></th>\n",
       "      <th>Predicted Label 0</th>\n",
       "      <th>Predicted Label 1</th>\n",
       "      <th>Predicted Label 2</th>\n",
       "      <th>Predicted Label 3</th>\n",
       "    </tr>\n",
       "  </thead>\n",
       "  <tbody>\n",
       "    <tr>\n",
       "      <th>Actual Label 0</th>\n",
       "      <td>0</td>\n",
       "      <td>230</td>\n",
       "      <td>433</td>\n",
       "      <td>8</td>\n",
       "    </tr>\n",
       "    <tr>\n",
       "      <th>Actual Label 1</th>\n",
       "      <td>0</td>\n",
       "      <td>1441</td>\n",
       "      <td>694</td>\n",
       "      <td>7</td>\n",
       "    </tr>\n",
       "    <tr>\n",
       "      <th>Actual Label 2</th>\n",
       "      <td>0</td>\n",
       "      <td>831</td>\n",
       "      <td>2514</td>\n",
       "      <td>262</td>\n",
       "    </tr>\n",
       "    <tr>\n",
       "      <th>Actual Label 3</th>\n",
       "      <td>0</td>\n",
       "      <td>10</td>\n",
       "      <td>882</td>\n",
       "      <td>936</td>\n",
       "    </tr>\n",
       "  </tbody>\n",
       "</table>\n",
       "</div>"
      ],
      "text/plain": [
       "                Predicted Label 0  Predicted Label 1  Predicted Label 2  \\\n",
       "Actual Label 0                  0                230                433   \n",
       "Actual Label 1                  0               1441                694   \n",
       "Actual Label 2                  0                831               2514   \n",
       "Actual Label 3                  0                 10                882   \n",
       "\n",
       "                Predicted Label 3  \n",
       "Actual Label 0                  8  \n",
       "Actual Label 1                  7  \n",
       "Actual Label 2                262  \n",
       "Actual Label 3                936  "
      ]
     },
     "execution_count": 26,
     "metadata": {},
     "output_type": "execute_result"
    }
   ],
   "source": [
    "from sklearn.linear_model import LogisticRegression\n",
    "my_model = LogisticRegression()\n",
    "result = my_model.fit(x_train, y_train)\n",
    "predictions = result.predict(x_test)\n",
    "predictions\n",
    "from sklearn.metrics import accuracy_score\n",
    "print('Accracy of Logistic Regression Classifier :',accuracy_score(y_test, predictions))\n",
    "from sklearn.metrics import confusion_matrix\n",
    "confusion_mat = confusion_matrix(y_test, predictions)\n",
    "confusion_df = pd.DataFrame(confusion_mat, index=['Actual Label 0','Actual Label 1','Actual Label 2','Actual Label 3'], columns=['Predicted Label 0','Predicted Label 1','Predicted Label 2','Predicted Label 3'])\n",
    "confusion_df"
   ]
  },
  {
   "cell_type": "markdown",
   "metadata": {},
   "source": [
    "## 2. Decision Tree Classifier"
   ]
  },
  {
   "cell_type": "code",
   "execution_count": 27,
   "metadata": {},
   "outputs": [
    {
     "name": "stdout",
     "output_type": "stream",
     "text": [
      "Accuracy Score for Decision Tress= 0.9367119301648884\n"
     ]
    },
    {
     "data": {
      "text/html": [
       "<div>\n",
       "<style scoped>\n",
       "    .dataframe tbody tr th:only-of-type {\n",
       "        vertical-align: middle;\n",
       "    }\n",
       "\n",
       "    .dataframe tbody tr th {\n",
       "        vertical-align: top;\n",
       "    }\n",
       "\n",
       "    .dataframe thead th {\n",
       "        text-align: right;\n",
       "    }\n",
       "</style>\n",
       "<table border=\"1\" class=\"dataframe\">\n",
       "  <thead>\n",
       "    <tr style=\"text-align: right;\">\n",
       "      <th></th>\n",
       "      <th>Predicted Label 0</th>\n",
       "      <th>Predicted Label 1</th>\n",
       "      <th>Predicted Label 2</th>\n",
       "      <th>Predicted Label 3</th>\n",
       "    </tr>\n",
       "  </thead>\n",
       "  <tbody>\n",
       "    <tr>\n",
       "      <th>Actual Label 0</th>\n",
       "      <td>591</td>\n",
       "      <td>35</td>\n",
       "      <td>43</td>\n",
       "      <td>2</td>\n",
       "    </tr>\n",
       "    <tr>\n",
       "      <th>Actual Label 1</th>\n",
       "      <td>50</td>\n",
       "      <td>1975</td>\n",
       "      <td>106</td>\n",
       "      <td>11</td>\n",
       "    </tr>\n",
       "    <tr>\n",
       "      <th>Actual Label 2</th>\n",
       "      <td>43</td>\n",
       "      <td>119</td>\n",
       "      <td>3393</td>\n",
       "      <td>52</td>\n",
       "    </tr>\n",
       "    <tr>\n",
       "      <th>Actual Label 3</th>\n",
       "      <td>4</td>\n",
       "      <td>8</td>\n",
       "      <td>49</td>\n",
       "      <td>1767</td>\n",
       "    </tr>\n",
       "  </tbody>\n",
       "</table>\n",
       "</div>"
      ],
      "text/plain": [
       "                Predicted Label 0  Predicted Label 1  Predicted Label 2  \\\n",
       "Actual Label 0                591                 35                 43   \n",
       "Actual Label 1                 50               1975                106   \n",
       "Actual Label 2                 43                119               3393   \n",
       "Actual Label 3                  4                  8                 49   \n",
       "\n",
       "                Predicted Label 3  \n",
       "Actual Label 0                  2  \n",
       "Actual Label 1                 11  \n",
       "Actual Label 2                 52  \n",
       "Actual Label 3               1767  "
      ]
     },
     "execution_count": 27,
     "metadata": {},
     "output_type": "execute_result"
    }
   ],
   "source": [
    "from sklearn.tree import DecisionTreeClassifier\n",
    "my_model = DecisionTreeClassifier(random_state=0)\n",
    "result = my_model.fit(x_train,y_train)\n",
    "predictions = result.predict(x_test)\n",
    "predictions\n",
    "from sklearn.metrics import mean_absolute_error,accuracy_score\n",
    "mean_absolute_error(y_test, predictions)\n",
    "print(\"Accuracy Score for Decision Tress=\",accuracy_score(y_test,predictions))\n",
    "from sklearn.metrics import confusion_matrix\n",
    "matrix=confusion_matrix(y_test,predictions)\n",
    "confusion_df = pd.DataFrame(matrix, index=['Actual Label 0','Actual Label 1','Actual Label 2','Actual Label 3'], columns=['Predicted Label 0','Predicted Label 1','Predicted Label 2','Predicted Label 3'])\n",
    "confusion_df"
   ]
  },
  {
   "cell_type": "markdown",
   "metadata": {},
   "source": [
    "## 3. KNN Classifier"
   ]
  },
  {
   "cell_type": "code",
   "execution_count": 28,
   "metadata": {},
   "outputs": [
    {
     "name": "stdout",
     "output_type": "stream",
     "text": [
      "Accuracy of KNN Classifier: 0.8983996120271581\n"
     ]
    },
    {
     "data": {
      "text/html": [
       "<div>\n",
       "<style scoped>\n",
       "    .dataframe tbody tr th:only-of-type {\n",
       "        vertical-align: middle;\n",
       "    }\n",
       "\n",
       "    .dataframe tbody tr th {\n",
       "        vertical-align: top;\n",
       "    }\n",
       "\n",
       "    .dataframe thead th {\n",
       "        text-align: right;\n",
       "    }\n",
       "</style>\n",
       "<table border=\"1\" class=\"dataframe\">\n",
       "  <thead>\n",
       "    <tr style=\"text-align: right;\">\n",
       "      <th></th>\n",
       "      <th>Predicted Label 0</th>\n",
       "      <th>Predicted Label 1</th>\n",
       "      <th>Predicted Label 2</th>\n",
       "      <th>Predicted Label 3</th>\n",
       "    </tr>\n",
       "  </thead>\n",
       "  <tbody>\n",
       "    <tr>\n",
       "      <th>Actual Label 0</th>\n",
       "      <td>550</td>\n",
       "      <td>54</td>\n",
       "      <td>56</td>\n",
       "      <td>11</td>\n",
       "    </tr>\n",
       "    <tr>\n",
       "      <th>Actual Label 1</th>\n",
       "      <td>55</td>\n",
       "      <td>1878</td>\n",
       "      <td>200</td>\n",
       "      <td>9</td>\n",
       "    </tr>\n",
       "    <tr>\n",
       "      <th>Actual Label 2</th>\n",
       "      <td>62</td>\n",
       "      <td>214</td>\n",
       "      <td>3255</td>\n",
       "      <td>76</td>\n",
       "    </tr>\n",
       "    <tr>\n",
       "      <th>Actual Label 3</th>\n",
       "      <td>10</td>\n",
       "      <td>20</td>\n",
       "      <td>71</td>\n",
       "      <td>1727</td>\n",
       "    </tr>\n",
       "  </tbody>\n",
       "</table>\n",
       "</div>"
      ],
      "text/plain": [
       "                Predicted Label 0  Predicted Label 1  Predicted Label 2  \\\n",
       "Actual Label 0                550                 54                 56   \n",
       "Actual Label 1                 55               1878                200   \n",
       "Actual Label 2                 62                214               3255   \n",
       "Actual Label 3                 10                 20                 71   \n",
       "\n",
       "                Predicted Label 3  \n",
       "Actual Label 0                 11  \n",
       "Actual Label 1                  9  \n",
       "Actual Label 2                 76  \n",
       "Actual Label 3               1727  "
      ]
     },
     "execution_count": 28,
     "metadata": {},
     "output_type": "execute_result"
    }
   ],
   "source": [
    "from sklearn.neighbors import KNeighborsClassifier\n",
    "my_model = KNeighborsClassifier(n_neighbors=1)\n",
    "result = my_model.fit(x_train,y_train)\n",
    "predictions = result.predict(x_test)\n",
    "from sklearn.metrics import classification_report,confusion_matrix\n",
    "matrix = confusion_matrix(y_test,predictions)\n",
    "print(\"Accuracy of KNN Classifier:\",accuracy_score(y_test, predictions))\n",
    "from sklearn import metrics\n",
    "confusion_df = pd.DataFrame(matrix, index=['Actual Label 0','Actual Label 1','Actual Label 2','Actual Label 3'], columns=['Predicted Label 0','Predicted Label 1','Predicted Label 2','Predicted Label 3'])\n",
    "confusion_df"
   ]
  },
  {
   "cell_type": "markdown",
   "metadata": {},
   "source": [
    "## 4. Random Forest classifier"
   ]
  },
  {
   "cell_type": "code",
   "execution_count": 29,
   "metadata": {},
   "outputs": [
    {
     "name": "stdout",
     "output_type": "stream",
     "text": [
      "Accuracy: 0.949078564500485\n"
     ]
    },
    {
     "data": {
      "text/html": [
       "<div>\n",
       "<style scoped>\n",
       "    .dataframe tbody tr th:only-of-type {\n",
       "        vertical-align: middle;\n",
       "    }\n",
       "\n",
       "    .dataframe tbody tr th {\n",
       "        vertical-align: top;\n",
       "    }\n",
       "\n",
       "    .dataframe thead th {\n",
       "        text-align: right;\n",
       "    }\n",
       "</style>\n",
       "<table border=\"1\" class=\"dataframe\">\n",
       "  <thead>\n",
       "    <tr style=\"text-align: right;\">\n",
       "      <th></th>\n",
       "      <th>Predicted Label 0</th>\n",
       "      <th>Predicted Label 1</th>\n",
       "      <th>Predicted Label 2</th>\n",
       "      <th>Predicted Label 3</th>\n",
       "    </tr>\n",
       "  </thead>\n",
       "  <tbody>\n",
       "    <tr>\n",
       "      <th>Actual Label 0</th>\n",
       "      <td>576</td>\n",
       "      <td>10</td>\n",
       "      <td>9</td>\n",
       "      <td>3</td>\n",
       "    </tr>\n",
       "    <tr>\n",
       "      <th>Actual Label 1</th>\n",
       "      <td>33</td>\n",
       "      <td>2003</td>\n",
       "      <td>77</td>\n",
       "      <td>3</td>\n",
       "    </tr>\n",
       "    <tr>\n",
       "      <th>Actual Label 2</th>\n",
       "      <td>62</td>\n",
       "      <td>129</td>\n",
       "      <td>3489</td>\n",
       "      <td>62</td>\n",
       "    </tr>\n",
       "    <tr>\n",
       "      <th>Actual Label 3</th>\n",
       "      <td>0</td>\n",
       "      <td>0</td>\n",
       "      <td>32</td>\n",
       "      <td>1760</td>\n",
       "    </tr>\n",
       "  </tbody>\n",
       "</table>\n",
       "</div>"
      ],
      "text/plain": [
       "                Predicted Label 0  Predicted Label 1  Predicted Label 2  \\\n",
       "Actual Label 0                576                 10                  9   \n",
       "Actual Label 1                 33               2003                 77   \n",
       "Actual Label 2                 62                129               3489   \n",
       "Actual Label 3                  0                  0                 32   \n",
       "\n",
       "                Predicted Label 3  \n",
       "Actual Label 0                  3  \n",
       "Actual Label 1                  3  \n",
       "Actual Label 2                 62  \n",
       "Actual Label 3               1760  "
      ]
     },
     "execution_count": 29,
     "metadata": {},
     "output_type": "execute_result"
    }
   ],
   "source": [
    "from sklearn.ensemble import RandomForestClassifier\n",
    "my_model = RandomForestClassifier(n_estimators = 50, criterion = 'entropy', random_state = 42)\n",
    "result=my_model.fit(x_train, y_train)\n",
    "predictions = result.predict(x_test)\n",
    "predictions\n",
    "from sklearn import metrics\n",
    "print(\"Accuracy:\",metrics.accuracy_score(y_test, predictions))\n",
    "from sklearn.metrics import confusion_matrix\n",
    "conf_matrix =confusion_matrix(predictions,y_test)\n",
    "confusion_df = pd.DataFrame(conf_matrix, index=['Actual Label 0','Actual Label 1','Actual Label 2','Actual Label 3'], columns=['Predicted Label 0','Predicted Label 1','Predicted Label 2','Predicted Label 3'])\n",
    "confusion_df"
   ]
  },
  {
   "cell_type": "markdown",
   "metadata": {},
   "source": [
    "## 5. Support Vector Machine Classifier"
   ]
  },
  {
   "cell_type": "code",
   "execution_count": 30,
   "metadata": {},
   "outputs": [
    {
     "name": "stdout",
     "output_type": "stream",
     "text": [
      "Accuracy of Support Vector Machine Classifier: 0.5905674102812803\n"
     ]
    },
    {
     "data": {
      "text/html": [
       "<div>\n",
       "<style scoped>\n",
       "    .dataframe tbody tr th:only-of-type {\n",
       "        vertical-align: middle;\n",
       "    }\n",
       "\n",
       "    .dataframe tbody tr th {\n",
       "        vertical-align: top;\n",
       "    }\n",
       "\n",
       "    .dataframe thead th {\n",
       "        text-align: right;\n",
       "    }\n",
       "</style>\n",
       "<table border=\"1\" class=\"dataframe\">\n",
       "  <thead>\n",
       "    <tr style=\"text-align: right;\">\n",
       "      <th></th>\n",
       "      <th>Predicted Label 0</th>\n",
       "      <th>Predicted Label 1</th>\n",
       "      <th>Predicted Label 2</th>\n",
       "      <th>Predicted Label 3</th>\n",
       "    </tr>\n",
       "  </thead>\n",
       "  <tbody>\n",
       "    <tr>\n",
       "      <th>Actual Label 0</th>\n",
       "      <td>0</td>\n",
       "      <td>0</td>\n",
       "      <td>0</td>\n",
       "      <td>1</td>\n",
       "    </tr>\n",
       "    <tr>\n",
       "      <th>Actual Label 1</th>\n",
       "      <td>172</td>\n",
       "      <td>1020</td>\n",
       "      <td>571</td>\n",
       "      <td>10</td>\n",
       "    </tr>\n",
       "    <tr>\n",
       "      <th>Actual Label 2</th>\n",
       "      <td>485</td>\n",
       "      <td>1114</td>\n",
       "      <td>2740</td>\n",
       "      <td>706</td>\n",
       "    </tr>\n",
       "    <tr>\n",
       "      <th>Actual Label 3</th>\n",
       "      <td>14</td>\n",
       "      <td>8</td>\n",
       "      <td>296</td>\n",
       "      <td>1111</td>\n",
       "    </tr>\n",
       "  </tbody>\n",
       "</table>\n",
       "</div>"
      ],
      "text/plain": [
       "                Predicted Label 0  Predicted Label 1  Predicted Label 2  \\\n",
       "Actual Label 0                  0                  0                  0   \n",
       "Actual Label 1                172               1020                571   \n",
       "Actual Label 2                485               1114               2740   \n",
       "Actual Label 3                 14                  8                296   \n",
       "\n",
       "                Predicted Label 3  \n",
       "Actual Label 0                  1  \n",
       "Actual Label 1                 10  \n",
       "Actual Label 2                706  \n",
       "Actual Label 3               1111  "
      ]
     },
     "execution_count": 30,
     "metadata": {},
     "output_type": "execute_result"
    }
   ],
   "source": [
    "from sklearn.svm import SVC\n",
    "my_model = SVC(kernel = 'rbf', random_state = 0)\n",
    "result = my_model.fit(x_train, y_train)\n",
    "predictions = result.predict(x_test)\n",
    "predictions\n",
    "from sklearn import metrics\n",
    "print(\"Accuracy of Support Vector Machine Classifier:\",accuracy_score(y_test, predictions))\n",
    "from sklearn.metrics import confusion_matrix\n",
    "conf_matrix =confusion_matrix(predictions,y_test)\n",
    "confusion_df = pd.DataFrame(conf_matrix ,index=['Actual Label 0','Actual Label 1','Actual Label 2','Actual Label 3'], columns=['Predicted Label 0','Predicted Label 1','Predicted Label 2','Predicted Label 3'])\n",
    "confusion_df"
   ]
  },
  {
   "cell_type": "markdown",
   "metadata": {},
   "source": [
    "## 6. Gradient Boosting Classifier"
   ]
  },
  {
   "cell_type": "code",
   "execution_count": 31,
   "metadata": {},
   "outputs": [
    {
     "name": "stdout",
     "output_type": "stream",
     "text": [
      "Accuracy of Support Gradient Boosting Classifier: 69.18\n"
     ]
    },
    {
     "data": {
      "text/html": [
       "<div>\n",
       "<style scoped>\n",
       "    .dataframe tbody tr th:only-of-type {\n",
       "        vertical-align: middle;\n",
       "    }\n",
       "\n",
       "    .dataframe tbody tr th {\n",
       "        vertical-align: top;\n",
       "    }\n",
       "\n",
       "    .dataframe thead th {\n",
       "        text-align: right;\n",
       "    }\n",
       "</style>\n",
       "<table border=\"1\" class=\"dataframe\">\n",
       "  <thead>\n",
       "    <tr style=\"text-align: right;\">\n",
       "      <th></th>\n",
       "      <th>Predicted Label 0</th>\n",
       "      <th>Predicted Label 1</th>\n",
       "      <th>Predicted Label 2</th>\n",
       "      <th>Predicted Label 3</th>\n",
       "    </tr>\n",
       "  </thead>\n",
       "  <tbody>\n",
       "    <tr>\n",
       "      <th>Actual Label 0</th>\n",
       "      <td>12</td>\n",
       "      <td>1</td>\n",
       "      <td>2</td>\n",
       "      <td>1</td>\n",
       "    </tr>\n",
       "    <tr>\n",
       "      <th>Actual Label 1</th>\n",
       "      <td>95</td>\n",
       "      <td>1333</td>\n",
       "      <td>206</td>\n",
       "      <td>1</td>\n",
       "    </tr>\n",
       "    <tr>\n",
       "      <th>Actual Label 2</th>\n",
       "      <td>548</td>\n",
       "      <td>802</td>\n",
       "      <td>3051</td>\n",
       "      <td>516</td>\n",
       "    </tr>\n",
       "    <tr>\n",
       "      <th>Actual Label 3</th>\n",
       "      <td>16</td>\n",
       "      <td>6</td>\n",
       "      <td>348</td>\n",
       "      <td>1310</td>\n",
       "    </tr>\n",
       "  </tbody>\n",
       "</table>\n",
       "</div>"
      ],
      "text/plain": [
       "                Predicted Label 0  Predicted Label 1  Predicted Label 2  \\\n",
       "Actual Label 0                 12                  1                  2   \n",
       "Actual Label 1                 95               1333                206   \n",
       "Actual Label 2                548                802               3051   \n",
       "Actual Label 3                 16                  6                348   \n",
       "\n",
       "                Predicted Label 3  \n",
       "Actual Label 0                  1  \n",
       "Actual Label 1                  1  \n",
       "Actual Label 2                516  \n",
       "Actual Label 3               1310  "
      ]
     },
     "execution_count": 31,
     "metadata": {},
     "output_type": "execute_result"
    }
   ],
   "source": [
    "from sklearn.ensemble import GradientBoostingClassifier\n",
    "my_model = GradientBoostingClassifier(n_estimators=100, learning_rate=1.0,max_depth=1,random_state=0)\n",
    "result = my_model.fit(x_train, y_train)\n",
    "predictions = result.predict(x_test)\n",
    "from sklearn import metrics\n",
    "print(\"Accuracy of Support Gradient Boosting Classifier:\",round(metrics.accuracy_score(y_test, predictions)*100,2))\n",
    "from sklearn.metrics import confusion_matrix\n",
    "conf_matrix =confusion_matrix(predictions,y_test)\n",
    "confusion_df = pd.DataFrame(conf_matrix ,index=['Actual Label 0','Actual Label 1','Actual Label 2','Actual Label 3'], columns=['Predicted Label 0','Predicted Label 1','Predicted Label 2','Predicted Label 3'])\n",
    "confusion_df"
   ]
  },
  {
   "cell_type": "code",
   "execution_count": 32,
   "metadata": {},
   "outputs": [],
   "source": [
    "## 7. Naive Bayes Classifier"
   ]
  },
  {
   "cell_type": "code",
   "execution_count": 33,
   "metadata": {},
   "outputs": [
    {
     "name": "stdout",
     "output_type": "stream",
     "text": [
      "Accuracy of Naive bayes Classifier id:  45.0\n"
     ]
    },
    {
     "data": {
      "text/html": [
       "<div>\n",
       "<style scoped>\n",
       "    .dataframe tbody tr th:only-of-type {\n",
       "        vertical-align: middle;\n",
       "    }\n",
       "\n",
       "    .dataframe tbody tr th {\n",
       "        vertical-align: top;\n",
       "    }\n",
       "\n",
       "    .dataframe thead th {\n",
       "        text-align: right;\n",
       "    }\n",
       "</style>\n",
       "<table border=\"1\" class=\"dataframe\">\n",
       "  <thead>\n",
       "    <tr style=\"text-align: right;\">\n",
       "      <th></th>\n",
       "      <th>Predicted Label 0</th>\n",
       "      <th>Predicted Label 1</th>\n",
       "      <th>Predicted Label 2</th>\n",
       "      <th>Predicted Label 3</th>\n",
       "    </tr>\n",
       "  </thead>\n",
       "  <tbody>\n",
       "    <tr>\n",
       "      <th>Actual Label 0</th>\n",
       "      <td>20</td>\n",
       "      <td>17</td>\n",
       "      <td>60</td>\n",
       "      <td>25</td>\n",
       "    </tr>\n",
       "    <tr>\n",
       "      <th>Actual Label 1</th>\n",
       "      <td>528</td>\n",
       "      <td>1971</td>\n",
       "      <td>2455</td>\n",
       "      <td>277</td>\n",
       "    </tr>\n",
       "    <tr>\n",
       "      <th>Actual Label 2</th>\n",
       "      <td>108</td>\n",
       "      <td>132</td>\n",
       "      <td>681</td>\n",
       "      <td>486</td>\n",
       "    </tr>\n",
       "    <tr>\n",
       "      <th>Actual Label 3</th>\n",
       "      <td>15</td>\n",
       "      <td>22</td>\n",
       "      <td>411</td>\n",
       "      <td>1040</td>\n",
       "    </tr>\n",
       "  </tbody>\n",
       "</table>\n",
       "</div>"
      ],
      "text/plain": [
       "                Predicted Label 0  Predicted Label 1  Predicted Label 2  \\\n",
       "Actual Label 0                 20                 17                 60   \n",
       "Actual Label 1                528               1971               2455   \n",
       "Actual Label 2                108                132                681   \n",
       "Actual Label 3                 15                 22                411   \n",
       "\n",
       "                Predicted Label 3  \n",
       "Actual Label 0                 25  \n",
       "Actual Label 1                277  \n",
       "Actual Label 2                486  \n",
       "Actual Label 3               1040  "
      ]
     },
     "execution_count": 33,
     "metadata": {},
     "output_type": "execute_result"
    }
   ],
   "source": [
    "from sklearn.naive_bayes import GaussianNB\n",
    "my_model = GaussianNB()\n",
    "result = my_model.fit(x_train,y_train)\n",
    "predictions = result.predict(x_test)\n",
    "predictions\n",
    "from sklearn import metrics\n",
    "print(\"Accuracy of Naive bayes Classifier id: \",round(accuracy_score(y_test,predictions)*100,2))\n",
    "from sklearn.metrics import confusion_matrix\n",
    "matrix = confusion_matrix(predictions,y_test,)\n",
    "confusion_df = pd.DataFrame(matrix, index=['Actual Label 0','Actual Label 1','Actual Label 2','Actual Label 3'], columns=['Predicted Label 0','Predicted Label 1','Predicted Label 2','Predicted Label 3'])\n",
    "confusion_df"
   ]
  },
  {
   "cell_type": "markdown",
   "metadata": {},
   "source": [
    "## Comparing All Models"
   ]
  },
  {
   "cell_type": "code",
   "execution_count": 34,
   "metadata": {},
   "outputs": [
    {
     "data": {
      "image/png": "[encoded data removed]",
      "text/plain": [
       "<Figure size 1080x720 with 1 Axes>"
      ]
     },
     "metadata": {
      "needs_background": "light"
     },
     "output_type": "display_data"
    }
   ],
   "source": [
    "# libraries\n",
    "import numpy as np\n",
    "import matplotlib.pyplot as plt\n",
    "%matplotlib inline\n",
    "\n",
    "accuracy = [59.29, 93.67, 89.81, 94.90, 59.25, 96.18, 45]\n",
    "bars = ('Logistic Regression', 'Decision Tree', 'KNN', 'Random Forest','Support Vector Machine', 'Gradient Boosting', 'Naive bayes')\n",
    "plt.figure(figsize=(15,10))\n",
    "y_pos = np.arange(len(bars))\n",
    "bars = plt.bar(bars,height=accuracy, color=['black', 'red', 'green', 'blue', 'cyan', 'yellow', 'magenta'])\n",
    "for bar in bars:\n",
    "    yval = bar.get_height()\n",
    "    plt.text(bar.get_x(), yval + 1,yval)\n",
    "\n",
    "#plt.xticks(y_pos, bars)\n",
    "plt.xlabel(\"Ml Algorithms\",fontsize=2)\n",
    "plt.ylabel(\"Accuracy in Percentage\")\n",
    "plt.title(\"Accuracy of Machine Learning Algorithms\")\n",
    "plt.show()"
   ]
  }
 ],
 "metadata": {
  "interpreter": {
   "hash": "cdca3a36641e0400f79d53e7029f2334446a0524559822c3c59038ffb79172e5"
  },
  "kernelspec": {
   "display_name": "Python 3.8.5 64-bit",
   "language": "python",
   "name": "python3"
  },
  "language_info": {
   "codemirror_mode": {
    "name": "ipython",
    "version": 3
   },
   "file_extension": ".py",
   "mimetype": "text/x-python",
   "name": "python",
   "nbconvert_exporter": "python",
   "pygments_lexer": "ipython3",
   "version": "3.8.5"
  },
  "orig_nbformat": 4
 },
 "nbformat": 4,
 "nbformat_minor": 2
}
